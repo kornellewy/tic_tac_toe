{
 "cells": [
  {
   "cell_type": "code",
   "execution_count": 1,
   "metadata": {},
   "outputs": [],
   "source": [
    "def new_board():\n",
    "    # startujemy nowa plansze\n",
    "    return ((0,0,0),(0,0,0),(0,0,0))"
   ]
  },
  {
   "cell_type": "code",
   "execution_count": 2,
   "metadata": {},
   "outputs": [],
   "source": [
    "def apply_move(board_state, move, side):\n",
    "    # rozdzielamy współrzedne ruchu\n",
    "    move_x, move_y = move\n",
    "    # zapisujemy stan gry jako lista list\n",
    "    state_list = list(list(s) for s in board_state)\n",
    "    # zapisujemy strone gry jako 1 albo -1 w danych współrzednych\n",
    "    state_list[move_x][move_y] = side\n",
    "    # zwracamy spowrotem niezmienialny nawias nawiasow \n",
    "    return tuple(tuple(s) for s in state_list)"
   ]
  },
  {
   "cell_type": "code",
   "execution_count": 3,
   "metadata": {},
   "outputs": [],
   "source": [
    "import itertools\n",
    "def available_moves(board_state):\n",
    "    # iterujemy po wszystkich nawaiasach nawiasow\n",
    "    for x,y in itertools.product(range(3), range(3)):\n",
    "        # zwracamy kratke gdzie jest 0, czyli prawidlowe ruchy\n",
    "        if board_state[x][y] == 0:\n",
    "            yield (x,y)"
   ]
  },
  {
   "cell_type": "code",
   "execution_count": 4,
   "metadata": {},
   "outputs": [],
   "source": [
    "def has_3_in_a_line(line):\n",
    "    return all(x==-1 for x in line) | all(x==1 for x in line)"
   ]
  },
  {
   "cell_type": "code",
   "execution_count": 5,
   "metadata": {},
   "outputs": [],
   "source": [
    "# sprawdzamy czy nie ma wygranej na planszy\n",
    "def has_winner(board_state):\n",
    "    # sprawdzanie rzedów\n",
    "    for x in range(3):\n",
    "        # bierzemyh linie\n",
    "        if has_3_in_a_line(board_state[x]):\n",
    "            return board_state[x][0]\n",
    "    # sprawdzanie kolun\n",
    "    for y in range(3):\n",
    "        # bierzemy i pozycje z kazdej lini\n",
    "        if has_3_in_a_line([i[y] for i in board_state]):\n",
    "            return board_state[0][y]\n",
    "    # sprawdzanie przekotnych\n",
    "    # sprawdzanie przekatnej \\\n",
    "    if has_3_in_a_line([board_state[i][i] for i in range(3)]):\n",
    "        return board_state[0][0]\n",
    "    if has_3_in_a_line([board_state[2-i][i] for i in range(3)]):\n",
    "        return board_state[2][0]\n",
    "    return 0 # remis"
   ]
  },
  {
   "cell_type": "code",
   "execution_count": 6,
   "metadata": {},
   "outputs": [],
   "source": [
    "# glówna funkcja gry\n",
    "def play_game(plus_player_func, minus_player_func):\n",
    "    board_state = new_board()\n",
    "    # gracz 1 zaczyna, i towżymy zmian ktora bd ustalala ture\n",
    "    player_turn = 1\n",
    "    while True:\n",
    "        # pobieramy liste wszystkich mozliwych róchow \n",
    "        _available_moves = list(available_moves(board_state))\n",
    "        if len(_available_moves) == 0:\n",
    "            print(\"brak dostepnych ruchów, remis\")\n",
    "            return 0\n",
    "        # ustalamy czyja jest tura\n",
    "        if player_turn > 0:\n",
    "            move = plus_player_func(board_state, 1)\n",
    "        else:\n",
    "            move = minus_player_func(board_state, -1)\n",
    "        # jesli agent wykona niedozwolony ruch, to przeciwnik wygrywa\n",
    "        if move not in _available_moves:\n",
    "            print(\"niedozwolony ruch\")\n",
    "            return -player_turn\n",
    "        # wykonujemy ruch\n",
    "        board_state = apply_move(board_state, move, player_turn)\n",
    "        print(board_state)\n",
    "        # sprawdzamy czy ktos wygral \n",
    "        winner = has_winner(board_state)\n",
    "        if winner != 0:\n",
    "            print(\"winer is : %s\" % player_turn)\n",
    "            return winner\n",
    "        # i oddajemy na następna ture \n",
    "        player_turn = -player_turn"
   ]
  },
  {
   "cell_type": "code",
   "execution_count": 7,
   "metadata": {},
   "outputs": [],
   "source": [
    "def random_player(board_state, side):\n",
    "    import random\n",
    "    moves = list(available_moves(board_state))\n",
    "    return random.choice(moves)"
   ]
  },
  {
   "cell_type": "code",
   "execution_count": 8,
   "metadata": {},
   "outputs": [
    {
     "name": "stdout",
     "output_type": "stream",
     "text": [
      "((1, 0, 0), (0, 0, 0), (0, 0, 0))\n",
      "((1, -1, 0), (0, 0, 0), (0, 0, 0))\n",
      "((1, -1, 1), (0, 0, 0), (0, 0, 0))\n",
      "((1, -1, 1), (0, 0, 0), (0, 0, -1))\n",
      "((1, -1, 1), (0, 1, 0), (0, 0, -1))\n",
      "((1, -1, 1), (0, 1, 0), (0, -1, -1))\n",
      "((1, -1, 1), (1, 1, 0), (0, -1, -1))\n",
      "((1, -1, 1), (1, 1, 0), (-1, -1, -1))\n",
      "winer is : -1\n"
     ]
    },
    {
     "data": {
      "text/plain": [
       "-1"
      ]
     },
     "execution_count": 8,
     "metadata": {},
     "output_type": "execute_result"
    }
   ],
   "source": [
    "play_game(random_player, random_player)"
   ]
  },
  {
   "cell_type": "code",
   "execution_count": 10,
   "metadata": {},
   "outputs": [],
   "source": [
    "# teraz bot min-max\n",
    "# funkcja liczaca punkty, daje na 1 punk za 2 symbole w lini i w przypadku gdy trzecie pole jest puste\n",
    "def score_line(line):\n",
    "    minus_count = line.count(-1)\n",
    "    plus_count = line.count(1)\n",
    "    if plus_count == 2 and minus_count ==0:\n",
    "        return 1\n",
    "    elif minus_count == 2 and plus_count ==0:\n",
    "        return -1\n",
    "    return 0"
   ]
  },
  {
   "cell_type": "code",
   "execution_count": null,
   "metadata": {},
   "outputs": [],
   "source": [
    "# funkcja pobierajaca wszystkie mozliwe linie i je sumuje"
   ]
  }
 ],
 "metadata": {
  "kernelspec": {
   "display_name": "Python 3",
   "language": "python",
   "name": "python3"
  },
  "language_info": {
   "codemirror_mode": {
    "name": "ipython",
    "version": 3
   },
   "file_extension": ".py",
   "mimetype": "text/x-python",
   "name": "python",
   "nbconvert_exporter": "python",
   "pygments_lexer": "ipython3",
   "version": "3.6.7"
  }
 },
 "nbformat": 4,
 "nbformat_minor": 2
}
