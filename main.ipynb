{
 "cells": [
  {
   "cell_type": "code",
   "execution_count": 1,
   "metadata": {},
   "outputs": [],
   "source": [
    "def new_board():\n",
    "    # startujemy nowa plansze\n",
    "    return ((0,0,0),(0,0,0),(0,0,0))"
   ]
  },
  {
   "cell_type": "code",
   "execution_count": 4,
   "metadata": {},
   "outputs": [],
   "source": [
    "def apply_move(board_state, move, side):\n",
    "    # rozdzielamy współrzedne ruchu\n",
    "    move_x, move_y = move\n",
    "    # zapisujemy stan gry jako lista list\n",
    "    state_list = list(list(s) for s in board_state)\n",
    "    # zapisujemy strone gry jako 1 albo -1 w danych współrzednych\n",
    "    state_list[move_x][move_y] = side\n",
    "    # zwracamy spowrotem niezmienialny nawias nawiasow \n",
    "    return tuple(tuple(s) for s in state_list)"
   ]
  },
  {
   "cell_type": "code",
   "execution_count": 15,
   "metadata": {},
   "outputs": [],
   "source": [
    "import itertools\n",
    "def available_moves(board_state):\n",
    "    # iterujemy po wszystkich nawaiasach nawiasow\n",
    "    for x,y in itertools.product(range(3), range(3)):\n",
    "        # zwracamy kratke gdzie jest 0, czyli prawidlowe ruchy\n",
    "        if board_state[x][y] == 0:\n",
    "            yield (x,y)"
   ]
  },
  {
   "cell_type": "code",
   "execution_count": 19,
   "metadata": {},
   "outputs": [],
   "source": [
    "def has_3_in_a_line(line):\n",
    "    return all(x==-1 for x in line) | all(x==1 for x in line)"
   ]
  },
  {
   "cell_type": "code",
   "execution_count": 18,
   "metadata": {},
   "outputs": [
    {
     "data": {
      "text/plain": [
       "(0, 1)"
      ]
     },
     "execution_count": 18,
     "metadata": {},
     "output_type": "execute_result"
    }
   ],
   "source": [
    "x= new_board()\n",
    "y = apply_move(x, [0,0], 1)\n",
    "available_moves(y)"
   ]
  },
  {
   "cell_type": "code",
   "execution_count": null,
   "metadata": {},
   "outputs": [],
   "source": []
  }
 ],
 "metadata": {
  "kernelspec": {
   "display_name": "Python 3",
   "language": "python",
   "name": "python3"
  },
  "language_info": {
   "codemirror_mode": {
    "name": "ipython",
    "version": 3
   },
   "file_extension": ".py",
   "mimetype": "text/x-python",
   "name": "python",
   "nbconvert_exporter": "python",
   "pygments_lexer": "ipython3",
   "version": "3.6.7"
  }
 },
 "nbformat": 4,
 "nbformat_minor": 2
}
